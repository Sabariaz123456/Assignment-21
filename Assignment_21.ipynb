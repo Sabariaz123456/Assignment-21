{
  "nbformat": 4,
  "nbformat_minor": 0,
  "metadata": {
    "colab": {
      "provenance": [],
      "authorship_tag": "ABX9TyOaegRURv3RUmXJE+LtoPIP",
      "include_colab_link": true
    },
    "kernelspec": {
      "name": "python3",
      "display_name": "Python 3"
    },
    "language_info": {
      "name": "python"
    }
  },
  "cells": [
    {
      "cell_type": "markdown",
      "metadata": {
        "id": "view-in-github",
        "colab_type": "text"
      },
      "source": [
        "<a href=\"https://colab.research.google.com/github/Sabariaz123456/Assignment-21/blob/main/Assignment_21.ipynb\" target=\"_parent\"><img src=\"https://colab.research.google.com/assets/colab-badge.svg\" alt=\"Open In Colab\"/></a>"
      ]
    },
    {
      "cell_type": "markdown",
      "source": [
        "# **Assignment # 01**\n",
        "\n",
        "\n"
      ],
      "metadata": {
        "id": "5HGgeXaPoVtL"
      }
    },
    {
      "cell_type": "code",
      "source": [
        "class Student:\n",
        "    def __init__(self, name, marks):\n",
        "        self.name = name       # using self to initialize name\n",
        "        self.marks = marks     # using self to initialize marks\n",
        "\n",
        "    def display(self):\n",
        "        print(f\"Student Name: {self.name}\")\n",
        "        print(f\"Marks: {self.marks}\")\n",
        "\n",
        "# Example usage:\n",
        "student1 = Student(\"Ali\", 88)\n",
        "student1.display()\n"
      ],
      "metadata": {
        "colab": {
          "base_uri": "https://localhost:8080/"
        },
        "id": "WQwERiCvpQ87",
        "outputId": "710c57ea-aaac-4f87-8e89-e3dd0aeddd90"
      },
      "execution_count": null,
      "outputs": [
        {
          "output_type": "stream",
          "name": "stdout",
          "text": [
            "Student Name: Ali\n",
            "Marks: 88\n"
          ]
        }
      ]
    },
    {
      "cell_type": "markdown",
      "source": [
        "# **Assignment # 02**\n"
      ],
      "metadata": {
        "id": "pon6YmmfpvhM"
      }
    },
    {
      "cell_type": "code",
      "source": [
        "class Counter:\n",
        "    count = 0\n",
        "\n",
        "    def _init_(self):\n",
        "        Counter.count += 1  # Increment count when object is created\n",
        "\n",
        "    @classmethod\n",
        "    def display_count(cls):\n",
        "        print(f\"Total objects created: {cls.count}\")\n",
        "\n",
        "# Creating objects\n",
        "obj1 = Counter()\n",
        "obj2 = Counter()\n",
        "obj3 = Counter()\n",
        "\n",
        "# Display total count using class method\n",
        "Counter.display_count()\n"
      ],
      "metadata": {
        "colab": {
          "base_uri": "https://localhost:8080/"
        },
        "id": "-0U7HUl8u1gM",
        "outputId": "e0314081-c6d3-4851-d256-9c45aeb5dabf"
      },
      "execution_count": null,
      "outputs": [
        {
          "output_type": "stream",
          "name": "stdout",
          "text": [
            "Total objects created: 0\n"
          ]
        }
      ]
    },
    {
      "cell_type": "markdown",
      "source": [
        "# **Assignment # 03**"
      ],
      "metadata": {
        "id": "v-CjM3IWwBk4"
      }
    },
    {
      "cell_type": "code",
      "source": [
        "class Car:\n",
        "    # Constructor with public variable\n",
        "    def __init__(self, brand):\n",
        "        self.brand = brand  # Public variable\n",
        "\n",
        "    # Public method\n",
        "    def start(self):\n",
        "        print(f\"{self.brand} car has started.\")\n",
        "\n",
        "# Object creation\n",
        "car1 = Car(\"Toyota\")\n",
        "\n",
        "# Accessing public variable\n",
        "print(\"Brand:\", car1.brand)\n",
        "\n",
        "# Calling public method\n",
        "car1.start()\n"
      ],
      "metadata": {
        "colab": {
          "base_uri": "https://localhost:8080/"
        },
        "id": "SeSUzhEHwQ3Q",
        "outputId": "e37bf323-ed04-4d9c-d597-30d16085b8e8"
      },
      "execution_count": null,
      "outputs": [
        {
          "output_type": "stream",
          "name": "stdout",
          "text": [
            "Brand: Toyota\n",
            "Toyota car has started.\n"
          ]
        }
      ]
    },
    {
      "cell_type": "markdown",
      "source": [
        "#**Assignment 04**"
      ],
      "metadata": {
        "id": "qwrxyp-Iwhu7"
      }
    },
    {
      "cell_type": "code",
      "source": [
        "class Bank:\n",
        "    # Class variable\n",
        "    bank_name = \"Default Bank\"\n",
        "\n",
        "    def __init__(self, account_holder):\n",
        "        self.account_holder = account_holder\n",
        "\n",
        "    # Class method to change the class variable\n",
        "    @classmethod\n",
        "    def change_bank_name(cls, name):\n",
        "        cls.bank_name = name\n",
        "\n",
        "    def display(self):\n",
        "        print(f\"Account Holder: {self.account_holder}\")\n",
        "        print(f\"Bank Name: {Bank.bank_name}\")\n",
        "\n",
        "# Creating instances\n",
        "acc1 = Bank(\"Saba\")\n",
        "acc2 = Bank(\"Riaz\")\n",
        "\n",
        "# Displaying before changing bank name\n",
        "print(\"Before changing bank name:\")\n",
        "acc1.display()\n",
        "acc2.display()\n",
        "\n",
        "# Changing bank name using class method\n",
        "Bank.change_bank_name(\"KoreanBank\")\n",
        "\n",
        "# Displaying after changing bank name\n",
        "print(\"\\nAfter changing bank name:\")\n",
        "acc1.display()\n",
        "acc2.display()\n"
      ],
      "metadata": {
        "colab": {
          "base_uri": "https://localhost:8080/"
        },
        "id": "z58YfSnWwu8a",
        "outputId": "d2c158c1-5a39-44f8-af52-50351e552101"
      },
      "execution_count": null,
      "outputs": [
        {
          "output_type": "stream",
          "name": "stdout",
          "text": [
            "Before changing bank name:\n",
            "Account Holder: Saba\n",
            "Bank Name: Default Bank\n",
            "Account Holder: Riaz\n",
            "Bank Name: Default Bank\n",
            "\n",
            "After changing bank name:\n",
            "Account Holder: Saba\n",
            "Bank Name: KoreanBank\n",
            "Account Holder: Riaz\n",
            "Bank Name: KoreanBank\n"
          ]
        }
      ]
    },
    {
      "cell_type": "markdown",
      "source": [
        "# **Assignment # 05**"
      ],
      "metadata": {
        "id": "rF2CpfWfxT_t"
      }
    },
    {
      "cell_type": "code",
      "source": [
        "class MathUtils:\n",
        "    @staticmethod\n",
        "    def add(a, b):\n",
        "        return a + b\n",
        "\n",
        "# Example usage:\n",
        "result = MathUtils.add(5, 3)\n",
        "print(\"Sum:\", result)\n"
      ],
      "metadata": {
        "colab": {
          "base_uri": "https://localhost:8080/"
        },
        "id": "zyQ2LZS8xZu1",
        "outputId": "c1950939-2942-4301-c6dc-3cc069dbaf2f"
      },
      "execution_count": null,
      "outputs": [
        {
          "output_type": "stream",
          "name": "stdout",
          "text": [
            "Sum: 8\n"
          ]
        }
      ]
    },
    {
      "cell_type": "markdown",
      "source": [
        "# **Assignment # 06**"
      ],
      "metadata": {
        "id": "Bm95CmnNyEje"
      }
    },
    {
      "cell_type": "code",
      "source": [
        "class Logger:\n",
        "    def __init__(self):\n",
        "        print(\"Logger object has been created.\")\n",
        "\n",
        "    def __del__(self):\n",
        "        print(\"Logger object has been destroyed.\")\n",
        "\n",
        "# Creating an instance of the Logger class\n",
        "log = Logger()\n",
        "\n",
        "# Deleting the instance to trigger the destructor\n",
        "del log\n"
      ],
      "metadata": {
        "colab": {
          "base_uri": "https://localhost:8080/"
        },
        "id": "aGg9rbMxyJVX",
        "outputId": "80ce915e-785e-4397-e6f4-de1890345f9b"
      },
      "execution_count": null,
      "outputs": [
        {
          "output_type": "stream",
          "name": "stdout",
          "text": [
            "Logger object has been created.\n",
            "Logger object has been destroyed.\n"
          ]
        }
      ]
    },
    {
      "cell_type": "markdown",
      "source": [
        "# **Assignment # 07**"
      ],
      "metadata": {
        "id": "OuYxcsUTyZ38"
      }
    },
    {
      "cell_type": "code",
      "source": [
        "class Employee:\n",
        "    def __init__(self, name, salary, ssn):\n",
        "        self.name = name          # Public variable\n",
        "        self._salary = salary     # Protected variable (by convention)\n",
        "        self.__ssn = ssn          # Private variable (name mangled)\n",
        "\n",
        "# Creating an instance of the Employee class\n",
        "emp = Employee(\"Alice\", 75000, \"123-45-6789\")\n",
        "\n",
        "# Accessing the public variable\n",
        "print(\"Public - Name:\", emp.name)\n",
        "\n",
        "# Accessing the protected variable (possible, but discouraged)\n",
        "print(\"Protected - Salary:\", emp._salary)\n",
        "\n",
        "# Attempting to access the private variable directly (will raise AttributeError)\n",
        "try:\n",
        "    print(\"Private - SSN:\", emp.__ssn)\n",
        "except AttributeError as e:\n",
        "    print(\"Private - SSN: Cannot access directly:\", e)\n",
        "\n",
        "# Accessing the private variable using name mangling\n",
        "print(\"Private - SSN (via name mangling):\", emp._Employee__ssn)\n"
      ],
      "metadata": {
        "colab": {
          "base_uri": "https://localhost:8080/"
        },
        "id": "imO_rTJRyfqv",
        "outputId": "afa9d10b-dc75-44a0-e44c-77356d2791e6"
      },
      "execution_count": null,
      "outputs": [
        {
          "output_type": "stream",
          "name": "stdout",
          "text": [
            "Public - Name: Alice\n",
            "Protected - Salary: 75000\n",
            "Private - SSN: Cannot access directly: 'Employee' object has no attribute '__ssn'\n",
            "Private - SSN (via name mangling): 123-45-6789\n"
          ]
        }
      ]
    },
    {
      "cell_type": "markdown",
      "source": [
        "# **Assignment # 08**"
      ],
      "metadata": {
        "id": "syd4prW4yx1x"
      }
    },
    {
      "cell_type": "code",
      "source": [
        "class Person:\n",
        "    def __init__(self, name):\n",
        "        self.name = name\n",
        "        print(f\"Person initialized with name: {self.name}\")\n",
        "\n",
        "class Teacher(Person):\n",
        "    def __init__(self, name, subject):\n",
        "        super().__init__(name)  # Call the constructor of the base class\n",
        "        self.subject = subject\n",
        "        print(f\"Teacher initialized with subject: {self.subject}\")\n",
        "\n",
        "# Creating an instance of the Teacher class\n",
        "teacher1 = Teacher(\"Alice\", \"Mathematics\")\n",
        "\n",
        "# Accessing attributes\n",
        "print(\"Name:\", teacher1.name)\n",
        "print(\"Subject:\", teacher1.subject)\n"
      ],
      "metadata": {
        "colab": {
          "base_uri": "https://localhost:8080/"
        },
        "id": "WJDcJXd9y292",
        "outputId": "8bc2de34-83e3-48a3-8bb1-37fa9fcf7aa6"
      },
      "execution_count": null,
      "outputs": [
        {
          "output_type": "stream",
          "name": "stdout",
          "text": [
            "Person initialized with name: Alice\n",
            "Teacher initialized with subject: Mathematics\n",
            "Name: Alice\n",
            "Subject: Mathematics\n"
          ]
        }
      ]
    },
    {
      "cell_type": "markdown",
      "source": [
        "# **Assignment # 09**"
      ],
      "metadata": {
        "id": "u72HbCqpzMfm"
      }
    },
    {
      "cell_type": "code",
      "source": [
        "from abc import ABC, abstractmethod\n",
        "\n",
        "class Shape(ABC):\n",
        "    @abstractmethod\n",
        "    def area(self):\n",
        "        \"\"\"Calculate the area of the shape.\"\"\"\n",
        "        pass\n",
        "\n",
        "class Rectangle(Shape):\n",
        "    def __init__(self, width, height):\n",
        "        self.width = width\n",
        "        self.height = height\n",
        "\n",
        "    def area(self):\n",
        "        return self.width * self.height\n",
        "\n",
        "# Example usage\n",
        "rect = Rectangle(5, 10)\n",
        "print(\"Area of rectangle:\", rect.area())\n"
      ],
      "metadata": {
        "colab": {
          "base_uri": "https://localhost:8080/"
        },
        "id": "f1htclT1zR5T",
        "outputId": "4f5b2db9-6c6e-494c-e2c4-1da1d40969a5"
      },
      "execution_count": null,
      "outputs": [
        {
          "output_type": "stream",
          "name": "stdout",
          "text": [
            "Area of rectangle: 50\n"
          ]
        }
      ]
    },
    {
      "cell_type": "markdown",
      "source": [
        "# **Assignment # 10**"
      ],
      "metadata": {
        "id": "rT2N70wVzsvY"
      }
    },
    {
      "cell_type": "code",
      "source": [
        "class Dog:\n",
        "    def __init__(self, name, breed):\n",
        "        self.name = name\n",
        "        self.breed = breed\n",
        "\n",
        "    def bark(self):\n",
        "        print(f\"{self.name} says Woof!\")\n",
        "\n",
        "# Creating an instance of the Dog class\n",
        "my_dog = Dog(\"Buddy\", \"Golden Retriever\")\n",
        "\n",
        "# Calling the bark method\n",
        "my_dog.bark()\n"
      ],
      "metadata": {
        "colab": {
          "base_uri": "https://localhost:8080/"
        },
        "id": "N-eTKMjez3gF",
        "outputId": "fedcca65-ba16-47f4-c74a-b02e96b854e8"
      },
      "execution_count": null,
      "outputs": [
        {
          "output_type": "stream",
          "name": "stdout",
          "text": [
            "Buddy says Woof!\n"
          ]
        }
      ]
    },
    {
      "cell_type": "markdown",
      "source": [
        "# **Assignment # 11**"
      ],
      "metadata": {
        "id": "bG2ZUoTC8iAr"
      }
    },
    {
      "cell_type": "code",
      "source": [
        "class Book:\n",
        "    # Class variable to keep track of total books\n",
        "    total_books = 0\n",
        "\n",
        "    def __init__(self, title, author):\n",
        "        self.title = title\n",
        "        self.author = author\n",
        "        # Increment total book count whenever a new book is created\n",
        "        Book.increment_book_count()\n",
        "\n",
        "    @classmethod\n",
        "    def increment_book_count(cls):\n",
        "        cls.total_books += 1\n",
        "\n",
        "    @classmethod\n",
        "    def get_total_books(cls):\n",
        "        return cls.total_books\n",
        "\n",
        "# Example usage:\n",
        "book1 = Book(\"1984\", \"George Orwell\")\n",
        "book2 = Book(\"Brave New World\", \"Aldous Huxley\")\n",
        "book3 = Book(\"Fahrenheit 451\", \"Ray Bradbury\")\n",
        "\n",
        "print(\"Total books added:\", Book.get_total_books())\n"
      ],
      "metadata": {
        "colab": {
          "base_uri": "https://localhost:8080/"
        },
        "id": "8Muf46rL80A_",
        "outputId": "5739729b-87f3-4dbd-e837-f9b221f02f64"
      },
      "execution_count": 1,
      "outputs": [
        {
          "output_type": "stream",
          "name": "stdout",
          "text": [
            "Total books added: 3\n"
          ]
        }
      ]
    },
    {
      "cell_type": "markdown",
      "source": [
        "# **Assignment # 12**"
      ],
      "metadata": {
        "id": "k-cTCPxD-k-D"
      }
    },
    {
      "cell_type": "code",
      "source": [
        "class TemperatureConverter:\n",
        "    @staticmethod\n",
        "    def celsius_to_fahrenheit(c):\n",
        "        return (c * 9/5) + 32\n",
        "\n",
        "# Example usage:\n",
        "temp_celsius = 25\n",
        "temp_fahrenheit = TemperatureConverter.celsius_to_fahrenheit(temp_celsius)\n",
        "print(f\"{temp_celsius}°C is {temp_fahrenheit}°F\")\n"
      ],
      "metadata": {
        "colab": {
          "base_uri": "https://localhost:8080/"
        },
        "id": "8zAQ7rk6_JDb",
        "outputId": "64d01aa1-a7c4-48bd-9e71-be1ad7d526b6"
      },
      "execution_count": 2,
      "outputs": [
        {
          "output_type": "stream",
          "name": "stdout",
          "text": [
            "25°C is 77.0°F\n"
          ]
        }
      ]
    },
    {
      "cell_type": "markdown",
      "source": [
        "# **Assignment # 13**"
      ],
      "metadata": {
        "id": "6ODmqxky_TSZ"
      }
    },
    {
      "cell_type": "code",
      "source": [
        "# Engine class\n",
        "class Engine:\n",
        "    def start(self):\n",
        "        return \"Engine started.\"\n",
        "\n",
        "# Car class using composition\n",
        "class Car:\n",
        "    def __init__(self, engine):\n",
        "        self.engine = engine  # Composition: Car has an Engine\n",
        "\n",
        "    def start_car(self):\n",
        "        return self.engine.start()  # Accessing Engine's method through Car\n",
        "\n",
        "# Create an Engine object\n",
        "my_engine = Engine()\n",
        "\n",
        "# Pass it to the Car object\n",
        "my_car = Car(my_engine)\n",
        "\n",
        "# Use the Car to start the engine\n",
        "print(my_car.start_car())\n"
      ],
      "metadata": {
        "colab": {
          "base_uri": "https://localhost:8080/"
        },
        "id": "BLIZepMa_YQs",
        "outputId": "537ad0ee-4632-45e2-9e4d-8843ac29642a"
      },
      "execution_count": 3,
      "outputs": [
        {
          "output_type": "stream",
          "name": "stdout",
          "text": [
            "Engine started.\n"
          ]
        }
      ]
    },
    {
      "cell_type": "markdown",
      "source": [
        "# **Assignment # 14**"
      ],
      "metadata": {
        "id": "Wk6DImHP_iZT"
      }
    },
    {
      "cell_type": "code",
      "source": [
        "# Employee class\n",
        "class Employee:\n",
        "    def __init__(self, name):\n",
        "        self.name = name\n",
        "\n",
        "# Department class using aggregation\n",
        "class Department:\n",
        "    def __init__(self, name, employee):\n",
        "        self.name = name\n",
        "        self.employee = employee  # Aggregation: storing reference to existing Employee\n",
        "\n",
        "    def show_details(self):\n",
        "        return f\"Department: {self.name}, Employee: {self.employee.name}\"\n",
        "\n",
        "# Create an independent Employee object\n",
        "emp = Employee(\"Alice\")\n",
        "\n",
        "# Department receives the existing Employee object\n",
        "dept = Department(\"HR\", emp)\n",
        "\n",
        "# Display details\n",
        "print(dept.show_details())\n"
      ],
      "metadata": {
        "colab": {
          "base_uri": "https://localhost:8080/"
        },
        "id": "BjGAmYyp_nA5",
        "outputId": "4104af2f-7a75-42cf-8c5e-0b92b386cd43"
      },
      "execution_count": 4,
      "outputs": [
        {
          "output_type": "stream",
          "name": "stdout",
          "text": [
            "Department: HR, Employee: Alice\n"
          ]
        }
      ]
    },
    {
      "cell_type": "markdown",
      "source": [
        "# **Assignment # 15**"
      ],
      "metadata": {
        "id": "PC0vkEd9AAnA"
      }
    },
    {
      "cell_type": "code",
      "source": [
        "# Base class A\n",
        "class A:\n",
        "    def show(self):\n",
        "        print(\"A's show() method\")\n",
        "\n",
        "# Classes B and C inherit from A and override show()\n",
        "class B(A):\n",
        "    def show(self):\n",
        "        print(\"B's show() method\")\n",
        "\n",
        "class C(A):\n",
        "    def show(self):\n",
        "        print(\"C's show() method\")\n",
        "\n",
        "# Class D inherits from both B and C (Diamond Inheritance)\n",
        "class D(B, C):\n",
        "    pass\n",
        "\n",
        "# Create an object of D\n",
        "d = D()\n",
        "\n",
        "# Call show() method\n",
        "d.show()\n",
        "\n",
        "# Print the MRO\n",
        "print(D.__mro__)\n"
      ],
      "metadata": {
        "colab": {
          "base_uri": "https://localhost:8080/"
        },
        "id": "5-5B1s-LAIX5",
        "outputId": "e0a8a5ba-2962-4e7d-8dd5-dc8261db6914"
      },
      "execution_count": 5,
      "outputs": [
        {
          "output_type": "stream",
          "name": "stdout",
          "text": [
            "B's show() method\n",
            "(<class '__main__.D'>, <class '__main__.B'>, <class '__main__.C'>, <class '__main__.A'>, <class 'object'>)\n"
          ]
        }
      ]
    },
    {
      "cell_type": "markdown",
      "source": [
        "# **Assignment # 16**"
      ],
      "metadata": {
        "id": "BEx5W7EuBA-y"
      }
    },
    {
      "cell_type": "code",
      "source": [
        "# Decorator function\n",
        "def log_function_call(func):\n",
        "    def wrapper():\n",
        "        print(\"Function is being called\")\n",
        "        return func()\n",
        "    return wrapper\n",
        "\n",
        "# Apply the decorator\n",
        "@log_function_call\n",
        "def say_hello():\n",
        "    print(\"Hello!\")\n",
        "\n",
        "# Call the function\n",
        "say_hello()\n"
      ],
      "metadata": {
        "colab": {
          "base_uri": "https://localhost:8080/"
        },
        "id": "iR6-KaUdBWz3",
        "outputId": "56ea187b-99d3-4035-9054-1916d67322d5"
      },
      "execution_count": 6,
      "outputs": [
        {
          "output_type": "stream",
          "name": "stdout",
          "text": [
            "Function is being called\n",
            "Hello!\n"
          ]
        }
      ]
    },
    {
      "cell_type": "markdown",
      "source": [
        "# **Assignment # 17**"
      ],
      "metadata": {
        "id": "t5XlF527Bqtl"
      }
    },
    {
      "cell_type": "code",
      "source": [
        "# Class decorator\n",
        "def add_greeting(cls):\n",
        "    def greet(self):\n",
        "        return \"Hello from Decorator!\"\n",
        "    cls.greet = greet  # Add greet method to the class\n",
        "    return cls\n",
        "\n",
        "# Apply the class decorator\n",
        "@add_greeting\n",
        "class Person:\n",
        "    def __init__(self, name):\n",
        "        self.name = name\n",
        "\n",
        "# Create an object of Person\n",
        "p = Person(\"Alice\")\n",
        "\n",
        "# Call the added greet method\n",
        "print(p.greet())\n"
      ],
      "metadata": {
        "colab": {
          "base_uri": "https://localhost:8080/"
        },
        "id": "7k-88S-uCF-s",
        "outputId": "1a182a2d-7530-45fb-e636-f89639c7aa51"
      },
      "execution_count": 7,
      "outputs": [
        {
          "output_type": "stream",
          "name": "stdout",
          "text": [
            "Hello from Decorator!\n"
          ]
        }
      ]
    },
    {
      "cell_type": "markdown",
      "source": [
        "# **Assignment # 18**"
      ],
      "metadata": {
        "id": "LSR0FrVHCH8j"
      }
    },
    {
      "cell_type": "code",
      "source": [
        "class Product:\n",
        "    def __init__(self, price):\n",
        "        self._price = price  # private attribute\n",
        "\n",
        "    @property\n",
        "    def price(self):\n",
        "        \"\"\"Getter for price\"\"\"\n",
        "        return self._price\n",
        "\n",
        "    @price.setter\n",
        "    def price(self, value):\n",
        "        \"\"\"Setter for price\"\"\"\n",
        "        if value < 0:\n",
        "            print(\"Price cannot be negative.\")\n",
        "        else:\n",
        "            self._price = value\n",
        "\n",
        "    @price.deleter\n",
        "    def price(self):\n",
        "        \"\"\"Deleter for price\"\"\"\n",
        "        print(\"Deleting price...\")\n",
        "        del self._price\n",
        "\n",
        "# Example usage\n",
        "p = Product(100)\n",
        "\n",
        "# Get the price\n",
        "print(\"Current Price:\", p.price)\n",
        "\n",
        "# Set the price\n",
        "p.price = 150\n",
        "print(\"Updated Price:\", p.price)\n",
        "\n",
        "# Try to set a negative price\n",
        "p.price = -50\n",
        "\n",
        "# Delete the price\n",
        "del p.price\n"
      ],
      "metadata": {
        "colab": {
          "base_uri": "https://localhost:8080/"
        },
        "id": "x039MisRCT34",
        "outputId": "c550fba9-5dd5-4130-e72c-f48deb48ac7d"
      },
      "execution_count": 8,
      "outputs": [
        {
          "output_type": "stream",
          "name": "stdout",
          "text": [
            "Current Price: 100\n",
            "Updated Price: 150\n",
            "Price cannot be negative.\n",
            "Deleting price...\n"
          ]
        }
      ]
    },
    {
      "cell_type": "markdown",
      "source": [
        "# **Assignment # 19**"
      ],
      "metadata": {
        "id": "i9Vb3OwCCX3D"
      }
    },
    {
      "cell_type": "code",
      "source": [
        "class Multiplier:\n",
        "    def __init__(self, factor):\n",
        "        self.factor = factor  # Set the multiplication factor\n",
        "\n",
        "    def __call__(self, value):\n",
        "        return value * self.factor  # Makes the object callable\n",
        "\n",
        "# Create an instance with a factor of 3\n",
        "triple = Multiplier(3)\n",
        "\n",
        "# Check if the object is callable\n",
        "print(\"Is 'triple' callable?\", callable(triple))\n",
        "\n",
        "# Use the object like a function\n",
        "result = triple(10)\n",
        "print(\"triple(10) =\", result)\n"
      ],
      "metadata": {
        "colab": {
          "base_uri": "https://localhost:8080/"
        },
        "id": "G44LhbFcCczs",
        "outputId": "5553e83b-a030-4329-aaed-7e52be319ffa"
      },
      "execution_count": 9,
      "outputs": [
        {
          "output_type": "stream",
          "name": "stdout",
          "text": [
            "Is 'triple' callable? True\n",
            "triple(10) = 30\n"
          ]
        }
      ]
    },
    {
      "cell_type": "markdown",
      "source": [
        "# **Assignment # 20**"
      ],
      "metadata": {
        "id": "aE6jfYVzCjwB"
      }
    },
    {
      "cell_type": "code",
      "source": [
        "# Define a custom exception\n",
        "class InvalidAgeError(Exception):\n",
        "    def __init__(self, message=\"Age must be 18 or older.\"):\n",
        "        self.message = message\n",
        "        super().__init__(self.message)\n",
        "\n",
        "# Function that checks age\n",
        "def check_age(age):\n",
        "    if age < 18:\n",
        "        raise InvalidAgeError()\n",
        "    else:\n",
        "        print(\"Age is valid.\")\n",
        "\n",
        "# Example usage with exception handling\n",
        "try:\n",
        "    age_input = int(input(\"Enter your age: \"))\n",
        "    check_age(age_input)\n",
        "except InvalidAgeError as e:\n",
        "    print(\"InvalidAgeError:\", e)\n"
      ],
      "metadata": {
        "colab": {
          "base_uri": "https://localhost:8080/"
        },
        "id": "A2X4Lx5TDMDV",
        "outputId": "54455e8e-dbe1-40c8-efaf-3d4e772a47bf"
      },
      "execution_count": 10,
      "outputs": [
        {
          "output_type": "stream",
          "name": "stdout",
          "text": [
            "Enter your age: 23\n",
            "Age is valid.\n"
          ]
        }
      ]
    },
    {
      "cell_type": "markdown",
      "source": [
        "# **Assignment # 21**"
      ],
      "metadata": {
        "id": "mSmqKWMGDVD9"
      }
    },
    {
      "cell_type": "code",
      "source": [
        "class Countdown:\n",
        "    def __init__(self, start):\n",
        "        self.start = start  # The starting number\n",
        "        self.current = start  # Initialize the current value to start\n",
        "\n",
        "    def __iter__(self):\n",
        "        return self  # The iterator is the object itself\n",
        "\n",
        "    def __next__(self):\n",
        "        if self.current > 0:\n",
        "            self.current -= 1\n",
        "            return self.current + 1  # Return the current value before decrementing\n",
        "        else:\n",
        "            raise StopIteration  # Stop the iteration when we reach 0\n",
        "\n",
        "# Example usage\n",
        "countdown = Countdown(5)\n",
        "\n",
        "# Using the Countdown object in a for-loop\n",
        "for number in countdown:\n",
        "    print(number)\n"
      ],
      "metadata": {
        "colab": {
          "base_uri": "https://localhost:8080/"
        },
        "id": "a3j-RXBrDpmT",
        "outputId": "dfaec59a-6cc7-4583-a850-576600a998f4"
      },
      "execution_count": 11,
      "outputs": [
        {
          "output_type": "stream",
          "name": "stdout",
          "text": [
            "5\n",
            "4\n",
            "3\n",
            "2\n",
            "1\n"
          ]
        }
      ]
    }
  ]
}